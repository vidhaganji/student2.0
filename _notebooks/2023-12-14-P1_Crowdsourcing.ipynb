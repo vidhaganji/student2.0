{
 "cells": [
  {
   "cell_type": "markdown",
   "metadata": {},
   "source": [
    "---\n",
    "comments: true\n",
    "layout: post\n",
    "title: Crowdsourcing\n",
    "description: Team teach on crowdsourcing\n",
    "type: collab\n",
    "author: Anthony, Rayane, Chris, Aiden, Ethan\n",
    "toc: true\n",
    "courses: { csp: {week: 16} }\n",
    "---"
   ]
  },
  {
   "cell_type": "markdown",
   "metadata": {},
   "source": [
    "### Crowdsourcing\n",
    "Crowdsourcing is the action of acquirring work and information from a large group of people via the internet. This information can be obtained from social media and other forms of media throughout the internet. Crowdsourcing allows companies to work with people throughout the world and aquire a variety of different skills. \n",
    "![crowdsourcing image](https://www.investopedia.com/thmb/-csD4ERbU65LWGDvuXuPvUV8cUY=/1500x0/filters:no_upscale():max_bytes(150000):strip_icc()/crowdsourcing.asp-final-7a1d5dcc4f3b45c38c0a5050354f66f4.png)\n",
    "\n",
    "# variations of crowdsourcing\n",
    "Idea Generation: Seeking ideas and suggestions from the crowd to solve a problem or improve a product.\n",
    "\n",
    "Microtasks: Breaking down a large task into smaller, manageable microtasks that can be distributed to a crowd.\n",
    "\n",
    "Funding: Crowdfunding platforms, where a crowd financially supports projects, products, or causes.\n",
    "\n",
    "ata Collection: Gathering and analyzing data through contributions from a large number of individuals.\n",
    "\n",
    "Open Innovation: Involving external contributors in the innovation process of a company.\n",
    "\n",
    "# benefits of crowdsourcing\n",
    "Crowdsourcing is cost efficent because it allows access to talented workers without the need for a traditional workforce. Also, projects and work can be completed in a lesser amount of time due to the many contributors. Finally, the diversity of contributors can lead to innovative ideas and solutions that may have not emerged in a traditional setting. \n",
    "\n",
    "# Example of crowdsourcing\n",
    " A well-known example of crowdsourcing is the website Wikipedia. Wikipedia is an online encyclopedia where anybody can contribute and add information onto the site. \n",
    "\n",
    "# drawbacks of crowdsourcing\n",
    "There might be complications when crowdsourcing such as difficulties in confidentiality and communication between the groups involved. There is also a slight chance of receiving low quality work if a collaborater misunderstands the project's requirements.\n",
    "## Popcorn Hack  \n",
    "How can organizations optimize crowdsoucing while minimizing the drawbacks?\n",
    "\n",
    "> Answer: Organization can optimize crowdsourcing while minimzing the drawbacks by limiting the bias in the populations the platoform is available to/restricting prejudice that users may cause due to the skew of the population working on the crowdsourcing project. A good example of this can be limited the number of people per region that contribute to said project. \n"
   ]
  },
  {
   "cell_type": "markdown",
   "metadata": {},
   "source": [
    "## Citizen Science  \n",
    "- Citizen Science is scientific research that the general population helps to conduct. Ordinary citizens, often non-scientists, help contribute data to research projects using computing devices.\n",
    "- Gives a wide range of people the ability to contribute to scientific studies which provides more diverse data.\n",
    "### Popcorn Hack  \n",
    "How do you believe participating in a citizen science project could enhance both scientific research and public engagement, and can you share any specific areas of scientific study where citizen science might make a significant impact in the future?\n",
    "\n",
    "> Answer: Participating in a citizen science project can enhance both science and public engagment, as more distributed/diverse ideals can be obtained to perform a holistic analysis. An example of scientific study is a nationwide mental health analysis that b=can be key in predicting mental health trends of the future. "
   ]
  },
  {
   "cell_type": "markdown",
   "metadata": {},
   "source": [
    "# Homework\n",
    "## Question 1  \n",
    "Explain the concept of crowdsourcing. Provide examples of how it is commonly used in different fields.\n",
    "> Answer: Crowdsourcing means getting help from many people to reach a goal. Businesses ask for ideas (like InnoCentive), scientists get help with tasks (like Zooniverse), tech folks work together on software (like GitHub), artists join contests (like 99designs), and maps are improved (like OpenStreetMap).\n",
    "\n",
    "## Question 2  \n",
    "Discuss the benefits and challenges associated with crowdsourcing. How can organizations effectively harness the power of crowdsourcing while mitigating potential drawbacks?\n",
    "\n",
    "> Answer: Crowdsourcing is good because it brings different ideas, saves money, speeds up new things, and permits people feel involved. Yet sometimes, it is difficult to control quality, share ideas fairly, and manage a lot of people. To do it well, you need clear goals,  incentives, good checks, a friendly community, and solutions for sharing ideas.\n",
    "\n",
    "## Question 3  \n",
    "Identify a real-world example of a successful crowdsourcing project. Explain the project, its goals, and the positive outcomes achieved through the collaboration of a large group of people.\n",
    "\n",
    "> Answer: A famous example is from 2011, when players cracked a difficult problem about an AIDS enzyme. It showed how everyone working together can solve complicate science problems. The origin of this discovery was the \"Foldit\" project, created by the University of Washington. The project turns the problem of protein folding into a game, allowing players to manipulate protein structures.\n",
    "\n",
    "### Question 4\n",
    "Create a hypothetical scenario where crowdsourcing could be applied to solve a specific problem. Describe the problem, the type of contributions you would seek from the crowd, and the potential impact of implementing the crowdsourced solution.\n",
    "\n",
    "> Answer: For example, a city may be struggling to monitor air quality (smog levels). An easy app can be created for smartphones where people can share air data. People use their phones to check and share air info. Others check if it's accurate, and experts can study the data for research purposes. Communities can then work with leaders to create legislation that targets the air quality."
   ]
  }
 ],
 "metadata": {
  "language_info": {
   "name": "python"
  }
 },
 "nbformat": 4,
 "nbformat_minor": 2
}
