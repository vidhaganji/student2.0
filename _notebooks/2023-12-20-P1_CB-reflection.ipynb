{
 "cells": [
  {
   "cell_type": "markdown",
   "metadata": {},
   "source": [
    "---\n",
    "comments: true\n",
    "layout: post\n",
    "title: CB MCQ Reflection\n",
    "description: \n",
    "type: collab\n",
    "author: vidha ganji \n",
    "toc: true\n",
    "courses: { csp: {week: 16} }\n",
    "---"
   ]
  },
  {
   "cell_type": "markdown",
   "metadata": {},
   "source": [
    "# Test Corrections Reflection\n",
    "\n",
    "**Overall Score:** 58/67\n",
    "\n",
    "I made two silly mistakes (accidental clicks), and 7 questions were ones I genuinely got wrong. The correction for these questions are below–\n",
    "\n",
    "1. **Science Museum Tickets:**\n",
    "   A misinterpretation of code resulted in an error. I failed to separate age and tour conditions into two distinct if statements. To avoid such mistakes, I will thoroughly consider all answer options rather than settling on an initial answer and seeking a fitting option.\n",
    "\n",
    "2. **Overflow Question:**\n",
    "   My misunderstanding of an overflow error led to an incorrect answer. I mistakenly associated it with rounding errors in integers stored as decimals. The correct definition, as provided by CollegeBoard, highlights that overflow occurs when the computed sum exceeds the maximum representable value within the fixed number of bits. To reinforce this concept, I plan to watch the recommended Daily Videos.\n",
    "\n",
    "3. **Compare Output of Program a and b (Question 3):**\n",
    "   Misapplication of loop knowledge caused errors. I incorrectly assumed that 'i' resets to 1 with each loop restart, neglecting the repeating portion of the code. I now understand that the initial assignment of 1 to 'i' occurs only during the initial code run. I will be more mindful of loop structures in future problem-solving.\n",
    "\n",
    "4. **Move Robot to Goal:**\n",
    "   Forgetting that a conditional inside a loop must evaluate to something led to an error. I failed to recognize the importance of the statement \"CAN_MOVE (forward) = false\" within the loop. I now understand that the code inside the loop runs only when the robot can move forward. Future approaches will involve careful consideration of all answer options and their differences.\n",
    "\n",
    "5. **Score Question:**\n",
    "   Misunderstanding AND/OR statements led to an error. I selected option A, unaware that the presence of AND would evaluate the statement to false even if the score was within 10 points of the target. Recognizing that option D correctly establishes a 10-point range around the target will guide my approach in the future.\n",
    "\n",
    "6. **BotMover Question:**\n",
    "   Lack of visualization resulted in an incorrect answer. Drawing out each option would have revealed that option B made the robot return to its original spot. I will practice 3D visualization by drawing it out from now on.\n",
    "\n",
    "7. **Spinner Question:**\n",
    "   Confusion between similar options resulted in an error. I incorrectly assumed the larger partition should occur when spin = 1 due to the \"Move 1 space\" condition. A deeper analysis revealed that the correct answer was option D, considering the else statement's higher probability. To prevent similar errors, I will visualize pseudocode more thoroughly and document the output of each option.\n",
    "\n",
    "I will be sure to revise these concepts via rewatching the College Board daily videos, as well as, for a secondary source of learning, watch relevant videos on Khan Academy. I think another good resource for me would be to review the Team Teaches and attempt the homework + popcorn hacks without the help of generative AI.\n"
   ]
  },
  {
   "cell_type": "markdown",
   "metadata": {},
   "source": []
  }
 ],
 "metadata": {
  "language_info": {
   "name": "python"
  }
 },
 "nbformat": 4,
 "nbformat_minor": 2
}
