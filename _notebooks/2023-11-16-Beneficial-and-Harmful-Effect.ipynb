{
 "cells": [
  {
   "cell_type": "markdown",
   "metadata": {},
   "source": [
    "---\n",
    "comments: true\n",
    "layout: post\n",
    "title: P1 Beneficial and harmful effects\n",
    "description: Team teach on beneficial and harmful effects of computing\n",
    "type: collab\n",
    "author: Ronit, Imaad, Tarun, Tejas\n",
    "toc: true\n",
    "courses: { csp: {week: 15} }\n",
    "---"
   ]
  },
  {
   "cell_type": "markdown",
   "metadata": {},
   "source": [
    "# 5.1 Beneficial and harmful effects \n",
    "\n",
    "## Beneficial and Harmful Effects of Technological Innovations\n",
    "\n",
    "- People are the driving force behind creating computing innovations.\n",
    "\n",
    "- Innovations are crafted with specific goals in mind. But they can have unforeseen consequences, both positive and negative.\n",
    "\n",
    "- A creator cant predict all the things that can be done with their innovation as there are so many things that could be done and as technology evolves, new uses are made\n",
    "\n",
    "<img src=\"https://i.ibb.co/rt82dN1/image-1.png\" alt=\"image-1\">"
   ]
  },
  {
   "cell_type": "markdown",
   "metadata": {},
   "source": [
    "# Dopamine\n",
    "\n",
    "## Postives\n",
    "- Social Connection: Social media platforms allow people to connect with friends and family, especially those who may be geographically distant. It facilitates communication, sharing of experiences, and staying updated on each other's lives.\n",
    "\n",
    "- Learning Opportunities: Many video games are designed to be educational and can enhance cognitive skills such as problem-solving, strategic thinking, and hand-eye coordination. Some games even incorporate historical or scientific elements, providing players with additional knowledge.\n",
    "\n",
    "- Creativity: Video games often stimulate creativity and imagination. Games with open-world exploration or creative building elements encourage players to think outside the box and express themselves in unique ways.\n",
    "\n",
    "- Community Building: Both video games and social media can foster a sense of community. Gamers often form online communities where they share tips, strategies, and experiences. Social media also allows people with common interests to connect and form communities.\n",
    "\n",
    "## Negatives\n",
    "\n",
    "- Anthony Rosner story.\n",
    "- Played up to 18 hours every single day and became extremely succesfull in world of warcraft but suffered in every other aspect of his life: school and relationships\n",
    "- Eventually quit gaming, became a succesful DJ, and created a documentary.\n"
   ]
  },
  {
   "cell_type": "markdown",
   "metadata": {},
   "source": [
    "# Example Beneficial and Corresponding Harmful Effects of Computing\n",
    "\n",
    "> Tik Tok\n",
    "- Postive: Platform for people to share their creativity and talents\n",
    "- Negative: \"Doom Scrolling\"\n",
    "\n",
    "\n",
    "<img src=\"https://i.ibb.co/7ysbjqD/image-2.png\" alt=\"image-2\">"
   ]
  },
  {
   "cell_type": "markdown",
   "metadata": {},
   "source": [
    "### Popcorn Hack 1\n",
    "\n",
    "What is an example of a computing innovation with unintended consequences, whether positive or negative?\n",
    "\n",
    "> Answer: The creation of social media, at least at its time, could not have been possibly thought to be responsible for the decline in the mental health of American adolescents. \n"
   ]
  },
  {
   "cell_type": "markdown",
   "metadata": {},
   "source": [
    "\n",
    "## Mitigating Risks/Responsiblity\n",
    "\n",
    "- Targeted advertising, machine learning, and data mining are all good exampels of how unintended uses can have both positive and negative effecs\n",
    "\n",
    "- Even though it is impossible to predict all possibilities, a responsible programmer's goal it to forsee and prevent any unintended/negative uses and effects\n",
    "\n",
    "- Rapid sharing of a program can lead to events outside the creators control\n",
    "\n"
   ]
  },
  {
   "cell_type": "markdown",
   "metadata": {},
   "source": [
    "### Popcorn Hack 2\n",
    "\n",
    "How can responsible programming help contribute to minimizing unintended harmful impacts?\n",
    "\n",
    "> Answer: Responsible programming allows for mechanisms to be implemented within algorithms that act as \"checkpoints\" so that no unexpected consequences have a chance to occur. \n",
    "\n"
   ]
  },
  {
   "cell_type": "markdown",
   "metadata": {},
   "source": [
    "## Finding Balance\n",
    "\n",
    "- Finding a balance between innovation and responsibility is important\n",
    "\n",
    "- Programmers shape the impact of their creations on society.\n",
    "\n",
    "- Unintended uses of innovations may potentiallyhave harmful impacts on society\n",
    "\n",
    "- While negative effects could occur, Innovations often bring unintended benefits by helping advance the current states of technology.\n",
    "\n",
    "<img src=\"https://i.ibb.co/sRXLQp4/image-5.png\" alt=\"image-5\">\n"
   ]
  },
  {
   "cell_type": "markdown",
   "metadata": {},
   "source": [
    "### Popcorn Hack 3\n",
    "Why is it important for programmers to consider the unintended consequences of their innovations? \n",
    "\n",
    "> Answer: It is important because the technologies they create have long-lasting impacts, so they must keep in mind how their inventions amy continue for several generations and ensure it does not have any long-term implications. \n"
   ]
  },
  {
   "cell_type": "markdown",
   "metadata": {},
   "source": [
    "### Bonus Hack(0.05 extra points)\n",
    "Self Reflect on your use of technology? Whats your daily screen time? What beneficial effects of technology do you utilize and what are some negative consequences you succcumb to?\n",
    "\n",
    "\n",
    "> Answer: My daily screen time is around 6 hours, and I agree that is it very excessive. Some beneficial effects include staying connected with my far-away relatives in India, as well as friends that live in other states. Some negative conseuqences include practices of doom-scolling which had led to sever strain on my eyes. \n",
    "\n"
   ]
  },
  {
   "cell_type": "markdown",
   "metadata": {},
   "source": [
    "### Homework\n",
    "- Choose an innovation (Social media, computers, phones, etc.) and talk about an alternative use than what its actually use for. Then, give the potential positive and negative impacts of the use you came up with\n",
    "\n",
    "> Answer:\n",
    "Transforming social media into an educational hub, providing accessible learning through features like live videos and discussions, not only has the potential to engage learners but also requires addressing challenges. These include potential distractions, ensuring accurate educational content, and addressing privacy concerns to safeguard learner data on social media platforms.\n",
    "\n",
    "\n",
    "- How might you as a programmer implement code that helps your program have less unintented risks.\n",
    "\n",
    "> - Answer: \n",
    "\n",
    "In risk mitigation, programmers play a key role by implementing comprehensive practices. Involving a diverse team in code reviews is crucial for varied perspectives. Using automated testing identifies and fixes bugs early. Continuous monitoring is essential for real-time issue resolution. Strict input validation prevents errors, and regular security audits proactively identify and address vulnerabilities. Establishing user permissions and maintaining documentation are vital for understanding and limiting unauthorized actions. Staying updated on programming trends and regularly updating dependencies contribute significantly to enhancing program reliability and security goals.\n",
    "\n",
    "\n"
   ]
  }
 ],
 "metadata": {
  "language_info": {
   "name": "python"
  }
 },
 "nbformat": 4,
 "nbformat_minor": 2
}
