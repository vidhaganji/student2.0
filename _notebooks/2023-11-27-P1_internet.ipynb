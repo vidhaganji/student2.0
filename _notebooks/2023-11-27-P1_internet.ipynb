{
 "cells": [
  {
   "cell_type": "markdown",
   "metadata": {},
   "source": [
    "---\n",
    "comments: true\n",
    "layout: post\n",
    "title: P1 The Internet\n",
    "description: Big Idea 4.1 Student Teaching\n",
    "type: collab\n",
    "author: Tanav, Aidan, Srini, Anvay\n",
    "toc: true\n",
    "courses: { csp: {week: 14} }\n",
    "---"
   ]
  },
  {
   "cell_type": "markdown",
   "metadata": {},
   "source": [
    "# 4.1 The Internet"
   ]
  },
  {
   "cell_type": "markdown",
   "metadata": {},
   "source": [
    "## Part 1\n",
    "\n",
    "- <span style=\"background-color: #b63c59\">How did the internet come to life?</span> It all began by these massive computers. They were isolated and very hard to work on. As a result, the idea of the internet came to life. It was to easily communicate between users and opened many gateways to digital communication.   \n",
    "\n",
    "- <span style=\"background-color: #b63c59\">The internet</span> is basically a way for computers to talk to each other using networks\n",
    "\n",
    "- A <span style=\"background-color: #b63c59\">packet</span> is a small amount of data or information sent over a network that includes information about the sender and destination.\n",
    "\n",
    "![Packet](../../../images/packet.jpeg)\n",
    "\n",
    "- A <span style=\"background-color: #b63c59\">computer network</span> is a group of computing devices interacting with each other in some sort of way\n",
    "\n",
    "## How do computers send data to each other?\n",
    "\n",
    "- In a process called <span style=\"background-color: #b63c59\">packet switching</span>, a message(file) is broken up into packets which are reassembled by the receiver. It is often times converted into something the computer can understand like binary. \n",
    "\n",
    "- A <span style=\"background-color: #b63c59\">path</span> is between the sender and receiver and the router will help find the path. For example, If you're accessing a website, routers determine the optimal path for the data packets to traverse the internet (routing), following a series of interconnected devices (paths) to reach the web server.\n",
    "\n",
    "- <span style=\"background-color: #b63c59\">Routing</span> is a process that finds a path from the sender to receiver\n",
    "\n",
    "\n",
    "\n",
    "\n",
    "- <span style=\"background-color: #b63c59\">Bandwidth</span> is the maximum amount of data that can be sent in a computer network\n"
   ]
  },
  {
   "cell_type": "markdown",
   "metadata": {},
   "source": [
    "## Popcorn Hack 1"
   ]
  },
  {
   "cell_type": "markdown",
   "metadata": {},
   "source": [
    "![The Internet](../../../images/network.png)"
   ]
  },
  {
   "cell_type": "markdown",
   "metadata": {},
   "source": [
    "- What is the diagram showing?\n",
    "\n",
    "1. Bandwidth\n",
    "2. Computer Network\n",
    "3. Packet Switching\n",
    "4. Operating System\n",
    "\n",
    "> Answer: 2 & 3 because depicts netwroks of senders + receivers and how they are utlimately involved in how packets are sent.\n"
   ]
  },
  {
   "cell_type": "markdown",
   "metadata": {},
   "source": [
    "## Part 2\n",
    "\n",
    "- <span style=\"background-color: #b63c59\">Protocols</span> are sets of rules for the way data is transferred throughout the internet\n",
    "\n",
    "- There are two acceptable models that show the layers that data is sent by protocols\n",
    "    - OSI \n",
    "    - TCP/IP\n",
    "        - TCP/IP is more widely accepted but OSI is still used\n",
    "\n",
    "- The OSI(Open Systems Interconnect) model shows the 7 layers you have to go throught to communicate between other computers\n",
    "\n",
    "![OSI Model](../../../images/osi.png)\n",
    "\n",
    "- TCP(Transmission Control Protocol) is a protocol for how to send messages between devices\n",
    "\n",
    "![TCP Model](../../../images/tcp.png)\n",
    "\n",
    "![Waist Model](../../../images/narrow-waist.png)\n",
    "\n",
    "## Popcorn Hack 2\n",
    "\n",
    "A request from the frontend to the backend is being made and the response returns JSON. What layer(s) did the data go through?\n",
    "\n",
    "1. Application\n",
    "2. Transport\n",
    "3. Internet\n",
    "4. Network Access\n",
    "5. All layers\n",
    "\n",
    "\n",
    "> Answer: 5, because ALL the layers must be passed through before data ca be sent to client."
   ]
  },
  {
   "cell_type": "markdown",
   "metadata": {},
   "source": [
    "## What is an example of the OSI/TCP Model\n",
    "\n",
    "![Process](../../../images/process.png)\n",
    "\n",
    "## Network Access/Internet Layer\n",
    "\n",
    "- The process usually starts with the Internet layer where the user's computer is assigned a unique IP address so it can communicate with other computers or web servers\n",
    "    - A DHCP(Dynamic Host Configuration Protocol) assigns the computer its unique IP address\n",
    "\n",
    "## Application/Transport Layer\n",
    "\n",
    "1. The user sends a <span style=\"background-color: #b63c59\">request</span> to a server or page\n",
    "2. If the user wants to go to a website like amazon.com, it has its <span style=\"background-color: #b63c59\">unique</span> IP address but it isn't readable by humans so a <span style=\"background-color: #b63c59\">DNS</span>(Domain Name Service), which stores the IP address inside of a database, sends it over the user\n",
    "3. During this process, the user sent a <span style=\"background-color: #b63c59\">TCP</span> request for the IP of amazon.com to the DNS server and the DNS server sent a TCP <span style=\"background-color: #b63c59\">response</span> in the form of packets for the IP of amazon.com\n",
    "4. Now, the user can send a <span style=\"background-color: #b63c59\">request</span> to the IP of the webpage like amazon.com\n",
    "5. The last step is for a <span style=\"background-color: #b63c59\">router</span> to send the user to the correct destination of the IP. In this case, amazon.com.\n",
    "\n",
    "\n",
    "## Popcorn Hack 3\n",
    "\n",
    "How does a user get the IP for a web page when they enter the url?\n",
    "\n",
    "1. It goes through layers when the request is made to the webp\n",
    "2. The DNS sends it to the user in the form of a TCP response\n",
    "3. There is no need for the user to know the ip when going to the url\n",
    "4. The user automatically knows\n",
    "\n",
    "> Answer: 2, because the url is stored as an IP within the database, and whenever the user queries for it, it is then sent to user.\n"
   ]
  },
  {
   "cell_type": "markdown",
   "metadata": {},
   "source": [
    "## Protocols used here are:\n",
    "- <span style=\"background-color: #b63c59\">HTTP</span> - Hyper Text Transfer Protocol   \n",
    "    - HTTP is a protocol that says how data is transferred over the internet\n",
    "    - Used for sending <span style=\"background-color: #b63c59\">requests</span> from a user and receiving a <span style=\"background-color: #b63c59\">response</span> in the form of HTML or JSON from the server.\n",
    "    - In last trimester, you made a request to the backend from the frontend using HTTP and it sent a response in the form of JSON\n",
    "- <span style=\"background-color: #b63c59\">HTTPS</span>\n",
    "    - HTTPS is HTTP with security. In last trimester's final project, the devops person used certbot to make the HTTP requests to the backend secure.\n",
    "\n",
    "![HTTP](../../../images/http.png)\n",
    "\n",
    "- <span style=\"background-color: #b63c59\">TCP/IP</span> - Transmission Control Protocol, Internet Protocol\n",
    "    - TCP/IP is important because HTTP requests and responses depend on a TCP connection between the client and server\n",
    "    - Once a TCP connction is made, HTTP requests are carried in TCP packets\n",
    "    - IP sends the TCP packets to the correct location\n",
    "    - When you made the HTTP request from the frontend to the backend, your request was broken up into TCP packets and sent to the correct location by IP\n",
    "\n",
    "![TCP/IP](../../../images/tcpip.png)"
   ]
  },
  {
   "cell_type": "markdown",
   "metadata": {},
   "source": [
    "## Homework\n",
    "\n",
    "Bandwidth:\n",
    "1. In the context of computer networks, elaborate on the concept of bandwidth. Discuss how bandwidth influences the speed and efficiency of data transfer. Provide examples of scenarios where both high and low bandwidth can impact the performance of internet connected devices.\n",
    "\n",
    "> Answer: Bandwidth is the maximum volume of data that a network connection can transmit within a specific timeframe, influencing the speed and efficiency of data transfer. A higher bandwidth enables the transmission of more data in a shorter period, resulting in faster transfer speeds. For activities like video streaming or large file downloads, a fast and stable internet connection is crucial. Conversely, low bandwidth in remote areas can lead to slow browsing, streaming issues, and extended download times.\n",
    "\n",
    "\n",
    "Computer Network:\n",
    "2. Explore computer networks by detailing the key components and their interplay. Discuss the significance of scalability, security, and reliability in designing computer networks. Provide real-world examples of how different types of computer networks, such as local area networks (LANs) and wide area networks (WANs), serve distinct purposes in various settings.\n",
    "\n",
    "> Answer: Computer networks comprise essential components such as routers, switches, modems, and protocols like TCP/IP, working together to facilitate communication and data sharing. Scalability is crucial for network design, allowing for expansion and accommodating more devices and users. Security measures, like firewalls and encryption, are essential to protect sensitive data and prevent unauthorized access. Reliability ensures consistent network operation, handling disruptions or failures. In a local area network (LAN), scalability facilitates easy device connection, security safeguards confidential files, and reliability ensures uninterrupted communication. In wide area networks (WANs), such as the internet, strong security measures are needed to protect data transmitted between dispersed locations.\n",
    "\n",
    "\n",
    "\n",
    "Packet Switching:\n",
    "3. Investigate packet switching and its role in modern communication systems. Compare and contrast packet switching with alternative methods, such as circuit switching, highlighting the advantages that packet switching brings to data transmission. Describe the journey of a data packet through a network.\n",
    "\n",
    "> Answer: Packet switching, a method in modern communication systems, involves dividing data into small packets before transmission. These packets travel independently through the network, taking different paths to reach their destination. Packet switching offers advantages like efficient use of network resources, allowing concurrent use of available bandwidth. It enhances robustness and resilience, as packets can take alternative routes in the presence of congestion or unavailability. The packet's journey involves encapsulation with source and destination addresses, traversal through routers that forward it using the best available path, and reassembly at the destination. This process ensures efficient and reliable data transmission across computer networks."
   ]
  },
  {
   "cell_type": "markdown",
   "metadata": {},
   "source": [
    "## "
   ]
  }
 ],
 "metadata": {
  "kernelspec": {
   "display_name": "Python 3 (ipykernel)",
   "language": "python",
   "name": "python3"
  },
  "language_info": {
   "codemirror_mode": {
    "name": "ipython",
    "version": 3
   },
   "file_extension": ".py",
   "mimetype": "text/x-python",
   "name": "python",
   "nbconvert_exporter": "python",
   "pygments_lexer": "ipython3",
   "version": "3.11.4"
  }
 },
 "nbformat": 4,
 "nbformat_minor": 4
}
