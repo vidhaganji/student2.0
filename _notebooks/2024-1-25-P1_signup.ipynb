{
 "cells": [
  {
   "cell_type": "markdown",
   "metadata": {},
   "source": [
    "---\n",
    "comments: true\n",
    "layout: post\n",
    "title: signup\n",
    "description: \n",
    "type: collab\n",
    "author: vidha ganji \n",
    "toc: true\n",
    "courses: { csp: {week: 16} }\n",
    "---"
   ]
  },
  {
   "cell_type": "markdown",
   "metadata": {},
   "source": [
    "\n",
    "<html lang=\"en\">\n",
    "    <title>User Registration</title>\n",
    "    <h1>User Registration</h1>\n",
    "    <form id=\"registrationForm\">\n",
    "        <label for=\"name\">Name:</label>\n",
    "        <input type=\"text\" id=\"name\" name=\"name\" required><br><br>     \n",
    "        <label for=\"uid\">Username</label>  \n",
    "        <input type=\"text\" id=\"uid\" name=\"uid\" required><br><br>\n",
    "        <label for=\"password\">Password</label> \n",
    "        <input type=\"password\" id=\"password\" name=\"password\" required><br><br>\n",
    "        <label for=\"confirmPassword\">Confirm Password</label> \n",
    "        <input type=\"password\" id=\"confirmPassword\" name=\"confirmPassword\" required><br><br>\n",
    "        <label for=\"dob\">Date of Birth</label>\n",
    "        <input type=\"text\" id=\"dob\" name=\"dob\" required><br><br>\n",
    "        <input type=\"submit\" value=\"Create User\">\n",
    "    </form>\n",
    "    <script>\n",
    "        document.getElementById('registrationForm').addEventListener('submit', function(event) {\n",
    "            event.preventDefault(); // Prevent form submission\n",
    "            const name = document.getElementById('name').value;// DEFINE VALUES\n",
    "            const uid =  document.getElementById('uid').value;\n",
    "            const password = document.getElementById('password').value;\n",
    "            const confirmPassword = document.getElementById('confirmPassword').value;\n",
    "            const dob = document.getElementById('dob').value;\n",
    "            if (password !== confirmPassword) {\n",
    "                alert(\"Passwords do not match\");\n",
    "                return;\n",
    "            }\n",
    "            const formData = {\n",
    "                \"name\": name,\n",
    "                \"uid\": uid,\n",
    "                \"password\": password,\n",
    "                \"dob\": dob\n",
    "                // Add other form fields as needed\n",
    "            };            \n",
    "            fetch('http://127.0.0.1:8240/api/users/create', {\n",
    "                method: 'POST',\n",
    "                headers: {\n",
    "                    'Content-Type': 'application/json'\n",
    "                },\n",
    "                body: JSON.stringify(formData)\n",
    "            })\n",
    "             .then(response => {\n",
    "                 if (response.ok) {\n",
    "                    window.location.href = '/frontTri2/login/'; // Redirect upon successful user creation\n",
    "                } else {\n",
    "                    console.error('User creation failed');\n",
    "                }\n",
    "            })\n",
    "            .catch(error => {\n",
    "                console.error('Error:', error);\n",
    "            });\n",
    "        });\n",
    "    </script>\n",
    "</html>\n"
   ]
  },
  {
   "cell_type": "markdown",
   "metadata": {},
   "source": []
  }
 ],
 "metadata": {
  "language_info": {
   "name": "python"
  }
 },
 "nbformat": 4,
 "nbformat_minor": 2
}
